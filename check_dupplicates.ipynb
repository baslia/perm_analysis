{
 "cells": [
  {
   "cell_type": "code",
   "execution_count": 1,
   "id": "initial_id",
   "metadata": {
    "collapsed": true,
    "ExecuteTime": {
     "end_time": "2023-10-08T23:24:13.740806Z",
     "start_time": "2023-10-08T23:18:41.088871Z"
    }
   },
   "outputs": [
    {
     "name": "stdout",
     "output_type": "stream",
     "text": [
      "FY2023_Q3\n",
      "(86201, 154)\n",
      "FY2022_Q4\n",
      "(190801, 156)\n",
      "FY2021_Q4\n",
      "(299065, 156)\n",
      "FY2020_Q4\n",
      "(393084, 157)\n",
      "FY2019_Q4\n",
      "Error reading file FY2019_Q4\n",
      "FY18_Q4\n",
      "Error reading file FY18_Q4\n",
      "FY17_Q4\n",
      "Error reading file FY17_Q4\n",
      "FY16_Q4\n",
      "Error reading file FY16_Q4\n",
      "FY15_Q4\n",
      "(482383, 261)\n",
      "FY14_Q4\n",
      "Error reading file FY14_Q4\n"
     ]
    }
   ],
   "source": [
    "import pandas as pd\n",
    "\n",
    "list_report = ['FY2023_Q3', 'FY2022_Q4', 'FY2021_Q4', 'FY2020_Q4', 'FY2019_Q4',\n",
    "               'FY18_Q4', 'FY17_Q4', 'FY16_Q4', 'FY15_Q4', 'FY14_Q4']\n",
    "\n",
    "df_total = pd.DataFrame()\n",
    "for report in list_report:\n",
    "    print(report)\n",
    "    data_url = f'https://www.dol.gov/sites/dolgov/files/ETA/oflc/pdfs/PERM_Disclosure_Data_{report}.xlsx'\n",
    "    try:\n",
    "        df = pd.read_excel(data_url)\n",
    "    except:\n",
    "        print(f'Error reading file {report}')\n",
    "        continue\n",
    "    df_total = pd.concat([df_total, df])\n",
    "    print(df_total.shape)"
   ]
  },
  {
   "cell_type": "code",
   "execution_count": 9,
   "outputs": [
    {
     "data": {
      "text/plain": "          CASE_NUMBER CASE_STATUS RECEIVED_DATE DECISION_DATE REFILE  \\\n80005   A-11250-04139      Denied           NaT    2015-09-02      N   \n80006   A-11250-04139      Denied           NaT    2015-09-02      N   \n80833   A-13078-49181      Denied           NaT    2014-10-27      N   \n80834   A-13078-49181      Denied           NaT    2014-10-27      N   \n82348   A-13172-74031      Denied           NaT    2014-10-27      N   \n...               ...         ...           ...           ...    ...   \n41465   A-21343-84133      Denied    2022-01-14    2023-02-15      N   \n97293   A-22009-95524   Certified    2022-01-12    2022-09-02      N   \n43324   A-22009-95524   Withdrawn    2022-01-12    2023-02-22      N   \n100353  A-22103-40538   Withdrawn    2022-04-14    2022-09-18      N   \n64850   A-22103-40538   Certified    2022-04-14    2023-04-26      N   \n\n       ORIG_FILE_DATE PREVIOUS_SWA_CASE_NUMBER_STATE SCHD_A_SHEEPHERDER  \\\n80005             NaT                            NaN                  N   \n80006             NaT                            NaN                  N   \n80833             NaT                            NaN                  N   \n80834             NaT                            NaN                  N   \n82348             NaT                            NaN                  N   \n...               ...                            ...                ...   \n41465             NaT                            NaN                  N   \n97293             NaT                            NaN                  N   \n43324             NaT                            NaN                  N   \n100353            NaT                            NaN                  N   \n64850             NaT                            NaN                  N   \n\n                               EMPLOYER_NAME     EMPLOYER_ADDRESS_1  ...  \\\n80005                       VENTRA OHIO CORP  5663 EAST 9 MILE ROAD  ...   \n80006                       VENTRA OHIO CORP  5663 EAST 9 MILE ROAD  ...   \n80833   MSP CORP DBA MAD SCIENCE OF NEW YORK  56 LAFAYETTE AVE #340  ...   \n80834   MSP CORP DBA MAD SCIENCE OF NEW YORK  56 LAFAYETTE AVE #340  ...   \n82348              ROSKO HOLDINGS D/B/A SONG         295 FIFTH AVE.  ...   \n...                                      ...                    ...  ...   \n41465    STATE STREET BANK AND TRUST COMPANY    ONE CONGRESS STREET  ...   \n97293                         SUPRASOFT, INC      830 E. HIGGINS RD  ...   \n43324                         SUPRASOFT, INC      830 E. HIGGINS RD  ...   \n100353                            FANNIE MAE        1100 15TH ST NW  ...   \n64850                             FANNIE MAE        1100 15TH ST NW  ...   \n\n       FW_INFO_TRAINING_COMP FW_INFO_REQ_EXPERIENCE  \\\n80005                    NaN                    NaN   \n80006                    NaN                    NaN   \n80833                    NaN                    NaN   \n80834                    NaN                    NaN   \n82348                    NaN                    NaN   \n...                      ...                    ...   \n41465                    NaN                    NaN   \n97293                    NaN                    NaN   \n43324                    NaN                    NaN   \n100353                   NaN                    NaN   \n64850                    NaN                    NaN   \n\n       FW_INFO_ALT_EDU_EXPERIENCE FW_INFO_REL_OCCUP_EXP  \\\n80005                         NaN                   NaN   \n80006                         NaN                   NaN   \n80833                         NaN                   NaN   \n80834                         NaN                   NaN   \n82348                         NaN                   NaN   \n...                           ...                   ...   \n41465                         NaN                   NaN   \n97293                         NaN                   NaN   \n43324                         NaN                   NaN   \n100353                        NaN                   NaN   \n64850                         NaN                   NaN   \n\n       PREPARER_INFO_EMP_COMPLETED PREPARER_INFO_TITLE  \\\n80005                            N            Attorney   \n80006                            N            Attorney   \n80833                            Y                 NaN   \n80834                            Y                 NaN   \n82348                            N            ATTORNEY   \n...                            ...                 ...   \n41465                          NaN                 NaN   \n97293                          NaN                 NaN   \n43324                          NaN                 NaN   \n100353                         NaN                 NaN   \n64850                          NaN                 NaN   \n\n           EMPLOYER_DECL_INFO_TITLE  NAICS_US_CODE  \\\n80005   Director of Human Resources         541618   \n80006   Director of Human Resources         541618   \n80833                         Owner             61   \n80834                         Owner             61   \n82348                     PRESIDENT         722110   \n...                             ...            ...   \n41465                           NaN            NaN   \n97293                           NaN            NaN   \n43324                           NaN            NaN   \n100353                          NaN            NaN   \n64850                           NaN            NaN   \n\n                              NAICS_US_TITLE              PW_Job_Title_9089  \n80005   Other Management Consulting Services        Director of Engineering  \n80006   Other Management Consulting Services        Director of Engineering  \n80833                   Educational Services  Science Enrichment Instructor  \n80834                   Educational Services  Science Enrichment Instructor  \n82348               Full-Service Restaurants                           COOK  \n...                                      ...                            ...  \n41465                                    NaN                            NaN  \n97293                                    NaN                            NaN  \n43324                                    NaN                            NaN  \n100353                                   NaN                            NaN  \n64850                                    NaN                            NaN  \n\n[808 rows x 261 columns]",
      "text/html": "<div>\n<style scoped>\n    .dataframe tbody tr th:only-of-type {\n        vertical-align: middle;\n    }\n\n    .dataframe tbody tr th {\n        vertical-align: top;\n    }\n\n    .dataframe thead th {\n        text-align: right;\n    }\n</style>\n<table border=\"1\" class=\"dataframe\">\n  <thead>\n    <tr style=\"text-align: right;\">\n      <th></th>\n      <th>CASE_NUMBER</th>\n      <th>CASE_STATUS</th>\n      <th>RECEIVED_DATE</th>\n      <th>DECISION_DATE</th>\n      <th>REFILE</th>\n      <th>ORIG_FILE_DATE</th>\n      <th>PREVIOUS_SWA_CASE_NUMBER_STATE</th>\n      <th>SCHD_A_SHEEPHERDER</th>\n      <th>EMPLOYER_NAME</th>\n      <th>EMPLOYER_ADDRESS_1</th>\n      <th>...</th>\n      <th>FW_INFO_TRAINING_COMP</th>\n      <th>FW_INFO_REQ_EXPERIENCE</th>\n      <th>FW_INFO_ALT_EDU_EXPERIENCE</th>\n      <th>FW_INFO_REL_OCCUP_EXP</th>\n      <th>PREPARER_INFO_EMP_COMPLETED</th>\n      <th>PREPARER_INFO_TITLE</th>\n      <th>EMPLOYER_DECL_INFO_TITLE</th>\n      <th>NAICS_US_CODE</th>\n      <th>NAICS_US_TITLE</th>\n      <th>PW_Job_Title_9089</th>\n    </tr>\n  </thead>\n  <tbody>\n    <tr>\n      <th>80005</th>\n      <td>A-11250-04139</td>\n      <td>Denied</td>\n      <td>NaT</td>\n      <td>2015-09-02</td>\n      <td>N</td>\n      <td>NaT</td>\n      <td>NaN</td>\n      <td>N</td>\n      <td>VENTRA OHIO CORP</td>\n      <td>5663 EAST 9 MILE ROAD</td>\n      <td>...</td>\n      <td>NaN</td>\n      <td>NaN</td>\n      <td>NaN</td>\n      <td>NaN</td>\n      <td>N</td>\n      <td>Attorney</td>\n      <td>Director of Human Resources</td>\n      <td>541618</td>\n      <td>Other Management Consulting Services</td>\n      <td>Director of Engineering</td>\n    </tr>\n    <tr>\n      <th>80006</th>\n      <td>A-11250-04139</td>\n      <td>Denied</td>\n      <td>NaT</td>\n      <td>2015-09-02</td>\n      <td>N</td>\n      <td>NaT</td>\n      <td>NaN</td>\n      <td>N</td>\n      <td>VENTRA OHIO CORP</td>\n      <td>5663 EAST 9 MILE ROAD</td>\n      <td>...</td>\n      <td>NaN</td>\n      <td>NaN</td>\n      <td>NaN</td>\n      <td>NaN</td>\n      <td>N</td>\n      <td>Attorney</td>\n      <td>Director of Human Resources</td>\n      <td>541618</td>\n      <td>Other Management Consulting Services</td>\n      <td>Director of Engineering</td>\n    </tr>\n    <tr>\n      <th>80833</th>\n      <td>A-13078-49181</td>\n      <td>Denied</td>\n      <td>NaT</td>\n      <td>2014-10-27</td>\n      <td>N</td>\n      <td>NaT</td>\n      <td>NaN</td>\n      <td>N</td>\n      <td>MSP CORP DBA MAD SCIENCE OF NEW YORK</td>\n      <td>56 LAFAYETTE AVE #340</td>\n      <td>...</td>\n      <td>NaN</td>\n      <td>NaN</td>\n      <td>NaN</td>\n      <td>NaN</td>\n      <td>Y</td>\n      <td>NaN</td>\n      <td>Owner</td>\n      <td>61</td>\n      <td>Educational Services</td>\n      <td>Science Enrichment Instructor</td>\n    </tr>\n    <tr>\n      <th>80834</th>\n      <td>A-13078-49181</td>\n      <td>Denied</td>\n      <td>NaT</td>\n      <td>2014-10-27</td>\n      <td>N</td>\n      <td>NaT</td>\n      <td>NaN</td>\n      <td>N</td>\n      <td>MSP CORP DBA MAD SCIENCE OF NEW YORK</td>\n      <td>56 LAFAYETTE AVE #340</td>\n      <td>...</td>\n      <td>NaN</td>\n      <td>NaN</td>\n      <td>NaN</td>\n      <td>NaN</td>\n      <td>Y</td>\n      <td>NaN</td>\n      <td>Owner</td>\n      <td>61</td>\n      <td>Educational Services</td>\n      <td>Science Enrichment Instructor</td>\n    </tr>\n    <tr>\n      <th>82348</th>\n      <td>A-13172-74031</td>\n      <td>Denied</td>\n      <td>NaT</td>\n      <td>2014-10-27</td>\n      <td>N</td>\n      <td>NaT</td>\n      <td>NaN</td>\n      <td>N</td>\n      <td>ROSKO HOLDINGS D/B/A SONG</td>\n      <td>295 FIFTH AVE.</td>\n      <td>...</td>\n      <td>NaN</td>\n      <td>NaN</td>\n      <td>NaN</td>\n      <td>NaN</td>\n      <td>N</td>\n      <td>ATTORNEY</td>\n      <td>PRESIDENT</td>\n      <td>722110</td>\n      <td>Full-Service Restaurants</td>\n      <td>COOK</td>\n    </tr>\n    <tr>\n      <th>...</th>\n      <td>...</td>\n      <td>...</td>\n      <td>...</td>\n      <td>...</td>\n      <td>...</td>\n      <td>...</td>\n      <td>...</td>\n      <td>...</td>\n      <td>...</td>\n      <td>...</td>\n      <td>...</td>\n      <td>...</td>\n      <td>...</td>\n      <td>...</td>\n      <td>...</td>\n      <td>...</td>\n      <td>...</td>\n      <td>...</td>\n      <td>...</td>\n      <td>...</td>\n      <td>...</td>\n    </tr>\n    <tr>\n      <th>41465</th>\n      <td>A-21343-84133</td>\n      <td>Denied</td>\n      <td>2022-01-14</td>\n      <td>2023-02-15</td>\n      <td>N</td>\n      <td>NaT</td>\n      <td>NaN</td>\n      <td>N</td>\n      <td>STATE STREET BANK AND TRUST COMPANY</td>\n      <td>ONE CONGRESS STREET</td>\n      <td>...</td>\n      <td>NaN</td>\n      <td>NaN</td>\n      <td>NaN</td>\n      <td>NaN</td>\n      <td>NaN</td>\n      <td>NaN</td>\n      <td>NaN</td>\n      <td>NaN</td>\n      <td>NaN</td>\n      <td>NaN</td>\n    </tr>\n    <tr>\n      <th>97293</th>\n      <td>A-22009-95524</td>\n      <td>Certified</td>\n      <td>2022-01-12</td>\n      <td>2022-09-02</td>\n      <td>N</td>\n      <td>NaT</td>\n      <td>NaN</td>\n      <td>N</td>\n      <td>SUPRASOFT, INC</td>\n      <td>830 E. HIGGINS RD</td>\n      <td>...</td>\n      <td>NaN</td>\n      <td>NaN</td>\n      <td>NaN</td>\n      <td>NaN</td>\n      <td>NaN</td>\n      <td>NaN</td>\n      <td>NaN</td>\n      <td>NaN</td>\n      <td>NaN</td>\n      <td>NaN</td>\n    </tr>\n    <tr>\n      <th>43324</th>\n      <td>A-22009-95524</td>\n      <td>Withdrawn</td>\n      <td>2022-01-12</td>\n      <td>2023-02-22</td>\n      <td>N</td>\n      <td>NaT</td>\n      <td>NaN</td>\n      <td>N</td>\n      <td>SUPRASOFT, INC</td>\n      <td>830 E. HIGGINS RD</td>\n      <td>...</td>\n      <td>NaN</td>\n      <td>NaN</td>\n      <td>NaN</td>\n      <td>NaN</td>\n      <td>NaN</td>\n      <td>NaN</td>\n      <td>NaN</td>\n      <td>NaN</td>\n      <td>NaN</td>\n      <td>NaN</td>\n    </tr>\n    <tr>\n      <th>100353</th>\n      <td>A-22103-40538</td>\n      <td>Withdrawn</td>\n      <td>2022-04-14</td>\n      <td>2022-09-18</td>\n      <td>N</td>\n      <td>NaT</td>\n      <td>NaN</td>\n      <td>N</td>\n      <td>FANNIE MAE</td>\n      <td>1100 15TH ST NW</td>\n      <td>...</td>\n      <td>NaN</td>\n      <td>NaN</td>\n      <td>NaN</td>\n      <td>NaN</td>\n      <td>NaN</td>\n      <td>NaN</td>\n      <td>NaN</td>\n      <td>NaN</td>\n      <td>NaN</td>\n      <td>NaN</td>\n    </tr>\n    <tr>\n      <th>64850</th>\n      <td>A-22103-40538</td>\n      <td>Certified</td>\n      <td>2022-04-14</td>\n      <td>2023-04-26</td>\n      <td>N</td>\n      <td>NaT</td>\n      <td>NaN</td>\n      <td>N</td>\n      <td>FANNIE MAE</td>\n      <td>1100 15TH ST NW</td>\n      <td>...</td>\n      <td>NaN</td>\n      <td>NaN</td>\n      <td>NaN</td>\n      <td>NaN</td>\n      <td>NaN</td>\n      <td>NaN</td>\n      <td>NaN</td>\n      <td>NaN</td>\n      <td>NaN</td>\n      <td>NaN</td>\n    </tr>\n  </tbody>\n</table>\n<p>808 rows × 261 columns</p>\n</div>"
     },
     "execution_count": 9,
     "metadata": {},
     "output_type": "execute_result"
    }
   ],
   "source": [
    "# get the dupplicated Case Number\n",
    "df_total_dup = df_total[df_total.duplicated(subset=['CASE_NUMBER'], keep=False)].sort_values(by=['CASE_NUMBER', 'DECISION_DATE'], ascending=[True, True])\n",
    "df_total_dup"
   ],
   "metadata": {
    "collapsed": false,
    "ExecuteTime": {
     "end_time": "2023-10-08T23:26:55.425208Z",
     "start_time": "2023-10-08T23:26:55.409194Z"
    }
   },
   "id": "95398c3e2fe0815c"
  },
  {
   "cell_type": "code",
   "execution_count": null,
   "outputs": [],
   "source": [],
   "metadata": {
    "collapsed": false
   },
   "id": "c413d8b450ff3b3d"
  }
 ],
 "metadata": {
  "kernelspec": {
   "display_name": "Python 3",
   "language": "python",
   "name": "python3"
  },
  "language_info": {
   "codemirror_mode": {
    "name": "ipython",
    "version": 2
   },
   "file_extension": ".py",
   "mimetype": "text/x-python",
   "name": "python",
   "nbconvert_exporter": "python",
   "pygments_lexer": "ipython2",
   "version": "2.7.6"
  }
 },
 "nbformat": 4,
 "nbformat_minor": 5
}
