{
 "cells": [
  {
   "cell_type": "code",
   "execution_count": null,
   "id": "initial_id",
   "metadata": {
    "collapsed": true,
    "is_executing": true
   },
   "outputs": [],
   "source": [
    "import pandas as pd\n",
    "\n",
    "list_report = ['FY2023_Q3', 'FY2022_Q4', 'FY2021_Q4', 'FY2020_Q4', 'FY2019_Q4',\n",
    "               'FY18_Q4', 'FY17_Q4', 'FY16_Q4', 'FY15_Q4', 'FY14_Q4']\n",
    "\n",
    "df_total = pd.DataFrame()\n",
    "for report in list_report:\n",
    "    print(report)\n",
    "    data_url = f'https://www.dol.gov/sites/dolgov/files/ETA/oflc/pdfs/PERM_Disclosure_Data_{report}.xlsx'\n",
    "    try:\n",
    "        df = pd.read_excel(data_url)\n",
    "    except:\n",
    "        print(f'Error reading file {report}')\n",
    "        continue\n",
    "    df_total = pd.concat([df_total, df])\n",
    "    print(df_total.shape)"
   ]
  },
  {
   "cell_type": "code",
   "execution_count": null,
   "outputs": [],
   "source": [
    "# get the dupplicated Case Number\n",
    "df_total[df_total.duplicated(subset=['CASE_NUMBER'], keep=False)].sort_values(by=['CASE_NUMBER'])"
   ],
   "metadata": {
    "collapsed": false,
    "is_executing": true
   },
   "id": "95398c3e2fe0815c"
  },
  {
   "cell_type": "code",
   "execution_count": null,
   "outputs": [],
   "source": [],
   "metadata": {
    "collapsed": false
   },
   "id": "c413d8b450ff3b3d"
  }
 ],
 "metadata": {
  "kernelspec": {
   "display_name": "Python 3",
   "language": "python",
   "name": "python3"
  },
  "language_info": {
   "codemirror_mode": {
    "name": "ipython",
    "version": 2
   },
   "file_extension": ".py",
   "mimetype": "text/x-python",
   "name": "python",
   "nbconvert_exporter": "python",
   "pygments_lexer": "ipython2",
   "version": "2.7.6"
  }
 },
 "nbformat": 4,
 "nbformat_minor": 5
}
