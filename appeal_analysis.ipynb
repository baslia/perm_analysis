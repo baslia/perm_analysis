{
 "cells": [
  {
   "cell_type": "code",
   "execution_count": null,
   "id": "initial_id",
   "metadata": {
    "collapsed": true,
    "is_executing": true
   },
   "outputs": [],
   "source": [
    "import pandas as pd"
   ]
  },
  {
   "cell_type": "code",
   "execution_count": null,
   "outputs": [],
   "source": [
    "# Import data\n",
    "data_url = 'https://www.dol.gov/sites/dolgov/files/ETA/oflc/pdfs/PERM_Disclosure_Data_FY2023_Q3.xlsx'\n",
    "df = pd.read_excel(data_url)"
   ],
   "metadata": {
    "collapsed": false
   },
   "id": "b954b01b4fb040d6"
  },
  {
   "cell_type": "code",
   "execution_count": null,
   "outputs": [],
   "source": [
    "# Add extra data\n",
    "df['DECISION_TIME'] = df['DECISION_DATE'] - df['RECEIVED_DATE']"
   ],
   "metadata": {
    "collapsed": false
   },
   "id": "cdcd3731bea15ea5"
  },
  {
   "cell_type": "code",
   "execution_count": null,
   "outputs": [],
   "source": [
    "# Filter the appeal case, assuming that the audit case is the case that has a decision time of more than 365 days\n",
    "days_audit = 513\n",
    "df_audit = df[df['DECISION_TIME'] > pd.Timedelta(days=days_audit)]\n",
    "df_audit = df_audit[df_audit['DECISION_TIME'] < pd.Timedelta(days=1000)]\n",
    "df_audit = df_audit[~df_audit['CASE_STATUS'].isin(['Certified-Expired', 'Withdrawn'])]\n",
    "df_audit"
   ],
   "metadata": {
    "collapsed": false
   },
   "id": "6eda5dcc53b80297"
  }
 ],
 "metadata": {
  "kernelspec": {
   "display_name": "Python 3",
   "language": "python",
   "name": "python3"
  },
  "language_info": {
   "codemirror_mode": {
    "name": "ipython",
    "version": 2
   },
   "file_extension": ".py",
   "mimetype": "text/x-python",
   "name": "python",
   "nbconvert_exporter": "python",
   "pygments_lexer": "ipython2",
   "version": "2.7.6"
  }
 },
 "nbformat": 4,
 "nbformat_minor": 5
}
